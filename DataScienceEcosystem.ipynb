{
  "nbformat": 4,
  "nbformat_minor": 0,
  "metadata": {
    "colab": {
      "provenance": [],
      "authorship_tag": "ABX9TyO765DTodtWpXquoH1GdGfm",
      "include_colab_link": true
    },
    "kernelspec": {
      "name": "python3",
      "display_name": "Python 3"
    },
    "language_info": {
      "name": "python"
    }
  },
  "cells": [
    {
      "cell_type": "markdown",
      "metadata": {
        "id": "view-in-github",
        "colab_type": "text"
      },
      "source": [
        "<a href=\"https://colab.research.google.com/github/xhirag24/KSPTPSAYW/blob/main/DataScienceEcosystem.ipynb\" target=\"_parent\"><img src=\"https://colab.research.google.com/assets/colab-badge.svg\" alt=\"Open In Colab\"/></a>"
      ]
    },
    {
      "cell_type": "markdown",
      "source": [
        "# **Data Science Ecosystem**\n",
        "\n"
      ],
      "metadata": {
        "id": "XBrbFgeN7BxB"
      }
    },
    {
      "cell_type": "markdown",
      "source": [
        "## **Objectives**\n",
        "- List popular languages for Data Science\n",
        "- List popular libraries for Data Science\n",
        "- Create a table for popular Data Science Tools\n",
        "- Create a code cell to multiply and add numbers\n",
        "- Create a code cell to convert minutes to hours\n"
      ],
      "metadata": {
        "id": "9f4abFiY77Hk"
      }
    },
    {
      "cell_type": "markdown",
      "source": [
        "## **Introduction**\n",
        "In this notebook, Data Science Tools and Ecosystem are summarized."
      ],
      "metadata": {
        "id": "X78JloOi7_yX"
      }
    },
    {
      "cell_type": "markdown",
      "source": [
        "## **Data Science Languages**\n",
        "Some of the popular languages that Data Scientists use are:\n",
        "1. Python\n",
        "2. R\n",
        "3. SQL\n",
        "4. Java\n",
        "5. C++\n",
        "6. Scala\n",
        "7. Julia\n",
        "8. Javascript\n",
        "9. Visual Basic\n",
        "10. PHP"
      ],
      "metadata": {
        "id": "Njx8rqbC8OJv"
      }
    },
    {
      "cell_type": "markdown",
      "source": [
        "## **Data Science Libraries**\n",
        "Some of the popular languages that Data Scientists use are:\n",
        "1. Pandas\n",
        "2. NumPy\n",
        "3. Matplotlib\n",
        "4. Seaborn\n",
        "5. Scikit-Learn\n",
        "6. Keras\n",
        "7. TensorFlow\n",
        "8. PyTorch\n",
        "9. Apache Spark\n",
        "10. Vegas\n",
        "11. BigDL\n",
        "12.Ggplot2"
      ],
      "metadata": {
        "id": "9rH-ONW69A9s"
      }
    },
    {
      "cell_type": "markdown",
      "source": [
        "## **Data Science Tools**\n",
        "\n",
        "| **Data Science Tools** |\n",
        "| ------------------ |\n",
        "| Anaconda |\n",
        "| Jupyter Notebooks |\n",
        "| RStudio |\n",
        "| Zeppelin |"
      ],
      "metadata": {
        "id": "QZ8UhJqY9oyk"
      }
    },
    {
      "cell_type": "markdown",
      "source": [
        "### **Below are a few examples of evaluating arithmetic expressions in Python**\n",
        ""
      ],
      "metadata": {
        "id": "05G6ZdYl-O3Q"
      }
    },
    {
      "cell_type": "code",
      "source": [
        "#This is a simple arithmetic expression to multiply then add integers\n",
        "(3*4)+5"
      ],
      "metadata": {
        "colab": {
          "base_uri": "https://localhost:8080/"
        },
        "id": "Dq435rcH-s9G",
        "outputId": "9b772501-1644-4a6c-c8d3-dab98351ed53"
      },
      "execution_count": 3,
      "outputs": [
        {
          "output_type": "execute_result",
          "data": {
            "text/plain": [
              "17"
            ]
          },
          "metadata": {},
          "execution_count": 3
        }
      ]
    },
    {
      "cell_type": "code",
      "source": [
        "minutes = 200\n",
        "hours = minutes / 60\n",
        "#This will convert 200 minutes to hours by dividing by 60\n",
        "print(hours)"
      ],
      "metadata": {
        "colab": {
          "base_uri": "https://localhost:8080/"
        },
        "id": "7JMHN9aT-4Gh",
        "outputId": "9348c1cf-4b50-41e2-e877-9576a7fee642"
      },
      "execution_count": 4,
      "outputs": [
        {
          "output_type": "stream",
          "name": "stdout",
          "text": [
            "3.3333333333333335\n"
          ]
        }
      ]
    },
    {
      "cell_type": "markdown",
      "source": [
        "## **Author**\n",
        "Pallepati Chirag"
      ],
      "metadata": {
        "id": "4aKEDFcj_Toa"
      }
    }
  ]
}