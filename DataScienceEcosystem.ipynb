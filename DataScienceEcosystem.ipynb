{
  "metadata": {
    "kernelspec": {
      "name": "python",
      "display_name": "Python (Pyodide)",
      "language": "python"
    },
    "language_info": {
      "codemirror_mode": {
        "name": "python",
        "version": 3
      },
      "file_extension": ".py",
      "mimetype": "text/x-python",
      "name": "python",
      "nbconvert_exporter": "python",
      "pygments_lexer": "ipython3",
      "version": "3.8"
    }
  },
  "nbformat_minor": 4,
  "nbformat": 4,
  "cells": [
    {
      "cell_type": "markdown",
      "source": "# DATA SCIENCE TOOLS AND ECOSYSTEM",
      "metadata": {}
    },
    {
      "cell_type": "markdown",
      "source": "## Objectives\n\n- ***List popular languages for Data Science***\n- ***List libraries for Data Science***\n- ***Create a table for Data Science Tools***\n- ***Solve an arithmetic expression***    \n- ***Convert Minutes to Hours***\n",
      "metadata": {}
    },
    {
      "cell_type": "markdown",
      "source": "## Introduction\nIn this notebook, Data Science Tools and Ecosystem are summarized.",
      "metadata": {}
    },
    {
      "cell_type": "markdown",
      "source": "## Data Science Language\n\nSome of the popular languages that Data Scientists use are:\n1. **Python**: Widely used for data analysis, ML and statistical modeling.\n2. **R**: Know for its statistical computing capabilities.\n3. **SQL**: For data manipulation and querying databases. (Mainly for Relational databases)\n4. **Java**: General-purpose object-oriented programming language.\n5. **Scala**: Designed as an extension to Java, provides support to functional programming.\n6. **Julia**:For high performance numerical analysis.",
      "metadata": {}
    },
    {
      "cell_type": "markdown",
      "source": "## Data Science Libraries\n\nSome of the commonly used libraries used by Data Scientists include:\n1. **Python libraries**: *Pandas*, *NumPy*, *Matplotlib*, *Seaborn*, *Scikit-learn*, *Keras*, *TensorFlow*, *PyTorch*\n2. **Scala**: *Vegas*, *BigDL*\n3. **R**: *ggplot2*",
      "metadata": {}
    },
    {
      "cell_type": "markdown",
      "source": "## Data Science Tools\n\n| Tool | Function |\n| ------ | ------ |\n| Oracle Database | Data management|\n| IBM DB2 | Data Management |\n| Talend | Data Integration |\n| Watson Studio Desktop | Data Integration |\n| Tableau | Data visualization |\n| IBM Cognos Analytics| Data visualization |\n| SPSS | Model building & deployment |\n| SAS data miner | Model building |\n| Informatica | Data asset management |\n| IBM Watson Studio desktop | Development environments |",
      "metadata": {}
    },
    {
      "cell_type": "markdown",
      "source": "### Below are a few examples of evaluating arithmetic expressions in Python\n",
      "metadata": {}
    },
    {
      "cell_type": "code",
      "source": "#This a simple arithmetic expression to mutiply then add integers\n(3*4)+5",
      "metadata": {
        "trusted": true
      },
      "outputs": [
        {
          "execution_count": 17,
          "output_type": "execute_result",
          "data": {
            "text/plain": "17"
          },
          "metadata": {}
        }
      ],
      "execution_count": 17
    },
    {
      "cell_type": "code",
      "source": "minutes = 180\nhours = 180/60\n#This will convert 200 minutes to hours by diving by 60\nprint(f\"{minutes} min is equal to {hours} hrs.\")",
      "metadata": {
        "trusted": true
      },
      "outputs": [
        {
          "name": "stdout",
          "text": "180 min is equal to 3.0 hrs.\n",
          "output_type": "stream"
        }
      ],
      "execution_count": 18
    },
    {
      "cell_type": "markdown",
      "source": "## Author \nPallepati Chirag",
      "metadata": {}
    }
  ]
}